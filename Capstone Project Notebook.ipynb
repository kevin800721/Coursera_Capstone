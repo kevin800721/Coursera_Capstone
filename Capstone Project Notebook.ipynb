{
    "cells": [
        {
            "cell_type": "markdown",
            "metadata": {
                "collapsed": true
            },
            "source": "# Best Place for Children in Toronto!"
        },
        {
            "cell_type": "markdown",
            "metadata": {},
            "source": "I am Kevin Huang. The notebook is for the final project of the Coursera course - Applied Data Science Capstone. The topic is __Best Place for Children in Toronto!__"
        },
        {
            "cell_type": "code",
            "execution_count": 1,
            "metadata": {},
            "outputs": [],
            "source": "import pandas as pd\nimport numpy as np"
        },
        {
            "cell_type": "code",
            "execution_count": 2,
            "metadata": {},
            "outputs": [
                {
                    "name": "stdout",
                    "output_type": "stream",
                    "text": "Hello Capstone Project Course!\n"
                }
            ],
            "source": "print('Hello Capstone Project Course!')"
        },
        {
            "cell_type": "markdown",
            "metadata": {},
            "source": "## Introduction"
        },
        {
            "cell_type": "markdown",
            "metadata": {},
            "source": "For newcomers to Toronto that have many children, the most important things is to make sure their sons/daughters have enough spaces to play. Living in a neighborhoods with many __parks__, __trails__, and __playgrounds__ nearby is optimal for such families. With the clustering approach, the goal of this project is to find the recommended neighborhoods for them."
        },
        {
            "cell_type": "markdown",
            "metadata": {},
            "source": "## Data"
        },
        {
            "cell_type": "markdown",
            "metadata": {},
            "source": "1. Wikipedia page that lists the neighborhoods in Toronto.\nhttps://en.wikipedia.org/wiki/List_of_postal_codes_of_Canada:_M\n\n2. Geospatial data of Toronto neighborhoods.\nhttp://cocl.us/Geospatial_data\n\n3. Foursquare location data to search for venues nearby each Toronto neighborhood."
        },
        {
            "cell_type": "code",
            "execution_count": null,
            "metadata": {},
            "outputs": [],
            "source": ""
        }
    ],
    "metadata": {
        "kernelspec": {
            "display_name": "Python 3.6",
            "language": "python",
            "name": "python3"
        },
        "language_info": {
            "codemirror_mode": {
                "name": "ipython",
                "version": 3
            },
            "file_extension": ".py",
            "mimetype": "text/x-python",
            "name": "python",
            "nbconvert_exporter": "python",
            "pygments_lexer": "ipython3",
            "version": "3.6.9"
        }
    },
    "nbformat": 4,
    "nbformat_minor": 1
}