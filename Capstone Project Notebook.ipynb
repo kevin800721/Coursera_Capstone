{
    "cells": [
        {
            "cell_type": "markdown",
            "metadata": {
                "collapsed": true
            },
            "source": "# Best Place for Children in Toronto!"
        },
        {
            "cell_type": "markdown",
            "metadata": {},
            "source": "I am Kevin Huang. The notebook is for the final project of the Coursera course - Applied Data Science Capstone. The topic is __Best Place for Children in Toronto!__"
        },
        {
            "cell_type": "code",
            "execution_count": 1,
            "metadata": {},
            "outputs": [],
            "source": "import pandas as pd\nimport numpy as np"
        },
        {
            "cell_type": "code",
            "execution_count": 2,
            "metadata": {},
            "outputs": [
                {
                    "name": "stdout",
                    "output_type": "stream",
                    "text": "Hello Capstone Project Course!\n"
                }
            ],
            "source": "print('Hello Capstone Project Course!')"
        },
        {
            "cell_type": "markdown",
            "metadata": {},
            "source": "## Introduction"
        },
        {
            "cell_type": "markdown",
            "metadata": {},
            "source": "For newcomers to Toronto that have many children, the most important things is to make sure their sons/daughters have enough spaces to play. Living in a neighborhoods with many __parks__, __trails__, and __playgrounds__ nearby is optimal for such families. With the clustering approach, the goal of this project is to find the recommended neighborhoods for them."
        },
        {
            "cell_type": "markdown",
            "metadata": {},
            "source": "## Business Problems"
        },
        {
            "cell_type": "markdown",
            "metadata": {},
            "source": "### 1. How to define a neighborhood favorable for children?\n\n### 2. Which neighborhood in Toronto has the most places for children to play?\n\n### 3. Which neighborhood in Toronto has the most places for the whole family to eat together?"
        },
        {
            "cell_type": "markdown",
            "metadata": {},
            "source": "## Data"
        },
        {
            "cell_type": "markdown",
            "metadata": {},
            "source": "The data analysis here is an extension of __Lab: Segmenting and Clustering Neighborhoods in the city of Toronto, Canada__. Hence, the required datasets is the same as the lab.\n\n\n### 1. Wikipedia page that lists the neighborhoods in Toronto.\nhttps://en.wikipedia.org/wiki/List_of_postal_codes_of_Canada:_M\n\nUse *BeautifulSoup* to scrap the neighborhood list in Toronto. \n\n\n### 2. Geospatial data of Toronto neighborhoods.\nhttp://cocl.us/Geospatial_data\n\nFor each neighborhood, find the longitude / latitude values so that we can use Foursquare location data to find nearby venues.\n\n\n### 3. Foursquare location data to search for venues nearby each Toronto neighborhood.\n\nFor each neighborhood, list top 5 common venue categories as the features to do the neighborhood clustering.\n\nTrain the model until a cluster that is favorable for children (with many parks, trails, playgrounds, or other places children may like) is found.\n\nAfter that, suggest the corresponding neighborhoods to the families."
        },
        {
            "cell_type": "code",
            "execution_count": null,
            "metadata": {},
            "outputs": [],
            "source": ""
        }
    ],
    "metadata": {
        "kernelspec": {
            "display_name": "Python 3.6",
            "language": "python",
            "name": "python3"
        },
        "language_info": {
            "codemirror_mode": {
                "name": "ipython",
                "version": 3
            },
            "file_extension": ".py",
            "mimetype": "text/x-python",
            "name": "python",
            "nbconvert_exporter": "python",
            "pygments_lexer": "ipython3",
            "version": "3.6.9"
        }
    },
    "nbformat": 4,
    "nbformat_minor": 1
}