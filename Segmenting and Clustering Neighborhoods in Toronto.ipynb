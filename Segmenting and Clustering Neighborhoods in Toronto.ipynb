{
    "cells": [
        {
            "cell_type": "markdown",
            "metadata": {},
            "source": "# Part 1 - Deal with the Wikipedia Table"
        },
        {
            "cell_type": "markdown",
            "metadata": {},
            "source": "Import modules first."
        },
        {
            "cell_type": "code",
            "execution_count": 74,
            "metadata": {},
            "outputs": [],
            "source": "import requests\nimport pandas as pd\nfrom bs4 import BeautifulSoup"
        },
        {
            "cell_type": "markdown",
            "metadata": {},
            "source": "Request data from the Wikipeida page. Use BeautifulSoup to get the html content, and apply __soup.find__ to get the part corresponding to the target table."
        },
        {
            "cell_type": "code",
            "execution_count": 75,
            "metadata": {},
            "outputs": [],
            "source": "url='https://en.wikipedia.org/wiki/List_of_postal_codes_of_Canada:_M'\nreq = requests.get(url)\nsoup = BeautifulSoup(req.text, \"html5lib\")\ndata = soup.find(class_=\"wikitable sortable\")"
        },
        {
            "cell_type": "markdown",
            "metadata": {},
            "source": "Define a new dataframe __neighborhoods__ with the desired columns."
        },
        {
            "cell_type": "code",
            "execution_count": 76,
            "metadata": {
                "scrolled": true
            },
            "outputs": [],
            "source": "column_names = ['Postal Code', 'Borough', 'Neighborhood']\nneighborhoods = pd.DataFrame(columns=column_names)"
        },
        {
            "cell_type": "markdown",
            "metadata": {},
            "source": "Extract data of the table row by row. For each row, I record data into dataframe only if the corresponding borough is assigned.\n\nWhen the loop reaches the end of the table, __the postal code on next line__ is no longer a string of 3 characters, indicating the end of data recording."
        },
        {
            "cell_type": "code",
            "execution_count": 77,
            "metadata": {},
            "outputs": [],
            "source": "header = data.findChild(\"tr\")\ndataline = header.find_next('tr')\n\nwhile True:\n    post0 = dataline.find_next('td')\n    post = post0.get_text(strip=True) \n    \n    bor0 = post0.find_next('td')\n    bor = bor0.get_text(strip=True)\n    # skip the data whose borough is not assigned     \n    if bor != 'Not assigned':\n        neigh0 = bor0.find_next('td')\n        neigh = neigh0.get_text(strip=True)\n            \n        neighborhoods = neighborhoods.append({'Postal Code': post,\n                                              'Borough': bor,\n                                              'Neighborhood': neigh}, ignore_index=True)\n    dataline = dataline.find_next('tr') \n    post_check = dataline.find_next('td').get_text(strip=True)\n    # reach the end of the table\n    if len(post_check) != 3:\n        break"
        },
        {
            "cell_type": "markdown",
            "metadata": {},
            "source": "The first ten rows of the dataframe __neighborhoods__:"
        },
        {
            "cell_type": "code",
            "execution_count": 78,
            "metadata": {},
            "outputs": [
                {
                    "data": {
                        "text/html": "<div>\n<style scoped>\n    .dataframe tbody tr th:only-of-type {\n        vertical-align: middle;\n    }\n\n    .dataframe tbody tr th {\n        vertical-align: top;\n    }\n\n    .dataframe thead th {\n        text-align: right;\n    }\n</style>\n<table border=\"1\" class=\"dataframe\">\n  <thead>\n    <tr style=\"text-align: right;\">\n      <th></th>\n      <th>Postal Code</th>\n      <th>Borough</th>\n      <th>Neighborhood</th>\n    </tr>\n  </thead>\n  <tbody>\n    <tr>\n      <th>0</th>\n      <td>M3A</td>\n      <td>North York</td>\n      <td>Parkwoods</td>\n    </tr>\n    <tr>\n      <th>1</th>\n      <td>M4A</td>\n      <td>North York</td>\n      <td>Victoria Village</td>\n    </tr>\n    <tr>\n      <th>2</th>\n      <td>M5A</td>\n      <td>Downtown Toronto</td>\n      <td>Regent Park, Harbourfront</td>\n    </tr>\n    <tr>\n      <th>3</th>\n      <td>M6A</td>\n      <td>North York</td>\n      <td>Lawrence Manor, Lawrence Heights</td>\n    </tr>\n    <tr>\n      <th>4</th>\n      <td>M7A</td>\n      <td>Downtown Toronto</td>\n      <td>Queen's Park, Ontario Provincial Government</td>\n    </tr>\n    <tr>\n      <th>5</th>\n      <td>M9A</td>\n      <td>Etobicoke</td>\n      <td>Islington Avenue</td>\n    </tr>\n    <tr>\n      <th>6</th>\n      <td>M1B</td>\n      <td>Scarborough</td>\n      <td>Malvern, Rouge</td>\n    </tr>\n    <tr>\n      <th>7</th>\n      <td>M3B</td>\n      <td>North York</td>\n      <td>Don Mills</td>\n    </tr>\n    <tr>\n      <th>8</th>\n      <td>M4B</td>\n      <td>East York</td>\n      <td>Parkview Hill, Woodbine Gardens</td>\n    </tr>\n    <tr>\n      <th>9</th>\n      <td>M5B</td>\n      <td>Downtown Toronto</td>\n      <td>Garden District, Ryerson</td>\n    </tr>\n  </tbody>\n</table>\n</div>",
                        "text/plain": "  Postal Code           Borough                                 Neighborhood\n0         M3A        North York                                    Parkwoods\n1         M4A        North York                             Victoria Village\n2         M5A  Downtown Toronto                    Regent Park, Harbourfront\n3         M6A        North York             Lawrence Manor, Lawrence Heights\n4         M7A  Downtown Toronto  Queen's Park, Ontario Provincial Government\n5         M9A         Etobicoke                             Islington Avenue\n6         M1B       Scarborough                               Malvern, Rouge\n7         M3B        North York                                    Don Mills\n8         M4B         East York              Parkview Hill, Woodbine Gardens\n9         M5B  Downtown Toronto                     Garden District, Ryerson"
                    },
                    "execution_count": 78,
                    "metadata": {},
                    "output_type": "execute_result"
                }
            ],
            "source": "neighborhoods.head(10)"
        },
        {
            "cell_type": "markdown",
            "metadata": {},
            "source": "The row count of the dataframe __neighborhoods__:"
        },
        {
            "cell_type": "code",
            "execution_count": 79,
            "metadata": {},
            "outputs": [
                {
                    "name": "stdout",
                    "output_type": "stream",
                    "text": "The number of rows in the dataframe:  103\n"
                }
            ],
            "source": "print('The number of rows in the dataframe: ',neighborhoods.shape[0])"
        },
        {
            "cell_type": "markdown",
            "metadata": {},
            "source": "# Part 2 - Add Latitude and Longitude "
        },
        {
            "cell_type": "code",
            "execution_count": null,
            "metadata": {},
            "outputs": [],
            "source": ""
        }
    ],
    "metadata": {
        "kernelspec": {
            "display_name": "Python 3.6",
            "language": "python",
            "name": "python3"
        },
        "language_info": {
            "codemirror_mode": {
                "name": "ipython",
                "version": 3
            },
            "file_extension": ".py",
            "mimetype": "text/x-python",
            "name": "python",
            "nbconvert_exporter": "python",
            "pygments_lexer": "ipython3",
            "version": "3.6.9"
        }
    },
    "nbformat": 4,
    "nbformat_minor": 1
}